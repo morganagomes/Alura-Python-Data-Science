{
  "nbformat": 4,
  "nbformat_minor": 0,
  "metadata": {
    "colab": {
      "name": "Curso - Python para Data Science_Primeiros passos.ipynb",
      "provenance": [],
      "authorship_tag": "ABX9TyM2ByyB5K8W3MiAXA4P6qqF"
    },
    "kernelspec": {
      "name": "python3",
      "display_name": "Python 3"
    },
    "language_info": {
      "name": "python"
    }
  },
  "cells": [
    {
      "cell_type": "markdown",
      "metadata": {
        "id": "R3XmRpfU9QI1"
      },
      "source": [
        "# **Curso - Python para Data Science | Alura**\n",
        "---\n"
      ]
    },
    {
      "cell_type": "markdown",
      "metadata": {
        "id": "b-VZ0B3E-yAZ"
      },
      "source": [
        "## **Aula 01 - Função e linguagem de alto nível**"
      ]
    },
    {
      "cell_type": "markdown",
      "metadata": {
        "id": "SJynH0_Kkha6"
      },
      "source": [
        "### Lógica de Programação com Python"
      ]
    },
    {
      "cell_type": "code",
      "metadata": {
        "colab": {
          "base_uri": "https://localhost:8080/"
        },
        "id": "ijNmQ8sxj_Tx",
        "outputId": "4489f1b1-6cd9-41d3-df43-d87d9413ccb3"
      },
      "source": [
        "1 + 1"
      ],
      "execution_count": null,
      "outputs": [
        {
          "output_type": "execute_result",
          "data": {
            "text/plain": [
              "2"
            ]
          },
          "metadata": {},
          "execution_count": 16
        }
      ]
    },
    {
      "cell_type": "code",
      "metadata": {
        "colab": {
          "base_uri": "https://localhost:8080/",
          "height": 35
        },
        "id": "AbKlX1F5kwjg",
        "outputId": "8012e48e-980f-47c8-b928-e5ee8800def9"
      },
      "source": [
        "'Morgana'"
      ],
      "execution_count": null,
      "outputs": [
        {
          "output_type": "execute_result",
          "data": {
            "application/vnd.google.colaboratory.intrinsic+json": {
              "type": "string"
            },
            "text/plain": [
              "'Morgana'"
            ]
          },
          "metadata": {},
          "execution_count": 2
        }
      ]
    },
    {
      "cell_type": "code",
      "metadata": {
        "colab": {
          "base_uri": "https://localhost:8080/",
          "height": 35
        },
        "id": "Umm90EWnk3NZ",
        "outputId": "bd39dc33-dffa-43ea-bc6d-8a076b01e0aa"
      },
      "source": [
        "\"Morgana\""
      ],
      "execution_count": null,
      "outputs": [
        {
          "output_type": "execute_result",
          "data": {
            "application/vnd.google.colaboratory.intrinsic+json": {
              "type": "string"
            },
            "text/plain": [
              "'Morgana'"
            ]
          },
          "metadata": {},
          "execution_count": 3
        }
      ]
    },
    {
      "cell_type": "code",
      "metadata": {
        "id": "N5rP02Ffk5al"
      },
      "source": [
        "nome = 'Morgana'"
      ],
      "execution_count": null,
      "outputs": []
    },
    {
      "cell_type": "code",
      "metadata": {
        "colab": {
          "base_uri": "https://localhost:8080/",
          "height": 35
        },
        "id": "_dRuZThflHX1",
        "outputId": "b700ad7a-26b9-4ab7-b7b7-51846c607a91"
      },
      "source": [
        "nome"
      ],
      "execution_count": null,
      "outputs": [
        {
          "output_type": "execute_result",
          "data": {
            "application/vnd.google.colaboratory.intrinsic+json": {
              "type": "string"
            },
            "text/plain": [
              "'Morgana'"
            ]
          },
          "metadata": {},
          "execution_count": 5
        }
      ]
    },
    {
      "cell_type": "code",
      "metadata": {
        "id": "dT6DP8BClIO8"
      },
      "source": [
        "idade = 34"
      ],
      "execution_count": null,
      "outputs": []
    },
    {
      "cell_type": "code",
      "metadata": {
        "colab": {
          "base_uri": "https://localhost:8080/"
        },
        "id": "LEObgfUolKMH",
        "outputId": "3519aba0-8e64-48aa-fc1e-fe790ca0c268"
      },
      "source": [
        "idade"
      ],
      "execution_count": null,
      "outputs": [
        {
          "output_type": "execute_result",
          "data": {
            "text/plain": [
              "34"
            ]
          },
          "metadata": {},
          "execution_count": 7
        }
      ]
    },
    {
      "cell_type": "code",
      "metadata": {
        "colab": {
          "base_uri": "https://localhost:8080/"
        },
        "id": "bJfpwmnOlK9e",
        "outputId": "07789e74-4bae-478b-ed56-fdc3ea4cbe41"
      },
      "source": [
        "print('O nome é Morgana e sua idade é 34 anos.')"
      ],
      "execution_count": null,
      "outputs": [
        {
          "output_type": "stream",
          "name": "stdout",
          "text": [
            "O nome é Morgana e sua idade é 34 anos.\n"
          ]
        }
      ]
    },
    {
      "cell_type": "code",
      "metadata": {
        "colab": {
          "base_uri": "https://localhost:8080/"
        },
        "id": "Qy4B9Hu-latg",
        "outputId": "3b4811a7-e54d-4d4e-88f1-3b4346d687bd"
      },
      "source": [
        "print(f'O nome é {nome} e sua idade {idade} anos.')"
      ],
      "execution_count": null,
      "outputs": [
        {
          "output_type": "stream",
          "name": "stdout",
          "text": [
            "O nome é Morgana e sua idade 34 anos.\n"
          ]
        }
      ]
    },
    {
      "cell_type": "code",
      "metadata": {
        "id": "FbROFnE2loBZ"
      },
      "source": [
        "nome = 'Maria'\n",
        "idade = 1"
      ],
      "execution_count": null,
      "outputs": []
    },
    {
      "cell_type": "code",
      "metadata": {
        "colab": {
          "base_uri": "https://localhost:8080/"
        },
        "id": "OD7nHHMllymK",
        "outputId": "0b84a042-0134-4fb3-ddf7-ae3f0acd33cf"
      },
      "source": [
        "print(f'O novo nome é {nome} e a nova idade é {idade} anos.')"
      ],
      "execution_count": null,
      "outputs": [
        {
          "output_type": "stream",
          "name": "stdout",
          "text": [
            "O novo nome é Maria e a nova idade é 1 anos.\n"
          ]
        }
      ]
    },
    {
      "cell_type": "markdown",
      "metadata": {
        "id": "-LCeIZJ9mHvI"
      },
      "source": [
        "### Criando minha primeira função"
      ]
    },
    {
      "cell_type": "code",
      "metadata": {
        "id": "Y87lIOyQl7eV"
      },
      "source": [
        "def saudacao():\n",
        "  nome = input('Qual é o seu nome? ')\n",
        "  print(f'Olá, {nome}!')"
      ],
      "execution_count": null,
      "outputs": []
    },
    {
      "cell_type": "code",
      "metadata": {
        "colab": {
          "base_uri": "https://localhost:8080/"
        },
        "id": "w-KTskxHmxnW",
        "outputId": "82dd2389-2cd2-44d6-ef8f-dab04af937b2"
      },
      "source": [
        "saudacao()"
      ],
      "execution_count": null,
      "outputs": [
        {
          "output_type": "stream",
          "name": "stdout",
          "text": [
            "Qual é o seu nome? Sonia\n",
            "Olá, Sonia!\n"
          ]
        }
      ]
    },
    {
      "cell_type": "markdown",
      "metadata": {
        "id": "hqO63kON4cvq"
      },
      "source": [
        "Exercício - Função nome completo"
      ]
    },
    {
      "cell_type": "code",
      "metadata": {
        "id": "9vZwOOhYm2ek"
      },
      "source": [
        "def nome_completo():\n",
        "  primeiro_nome = input('Qual é o seu primeiro nome? ')\n",
        "  sobrenome = input('Qual é o seu sobrenome? ')\n",
        "  print(f'{primeiro_nome} {sobrenome}')"
      ],
      "execution_count": 17,
      "outputs": []
    },
    {
      "cell_type": "code",
      "metadata": {
        "colab": {
          "base_uri": "https://localhost:8080/"
        },
        "id": "kYO8_6wf5BUw",
        "outputId": "73c389f9-1160-41dd-a685-290a66ebd93c"
      },
      "source": [
        "nome_completo()"
      ],
      "execution_count": 18,
      "outputs": [
        {
          "output_type": "stream",
          "name": "stdout",
          "text": [
            "Qual é o seu primeiro nome? Morgana\n",
            "Qual é o seu sobrenome? Gomes\n",
            "Morgana Gomes\n"
          ]
        }
      ]
    },
    {
      "cell_type": "markdown",
      "metadata": {
        "id": "tfeDjaCY-tOc"
      },
      "source": [
        "---"
      ]
    },
    {
      "cell_type": "markdown",
      "metadata": {
        "id": "892WzuPY-nX5"
      },
      "source": [
        "## **Aula 02 - Parâmetros, condicionais e conversão de tipos**"
      ]
    },
    {
      "cell_type": "markdown",
      "metadata": {
        "id": "vuy-T62j6-y5"
      },
      "source": [
        "### Função com parâmetro"
      ]
    },
    {
      "cell_type": "code",
      "metadata": {
        "id": "RNQiVgph5E9d"
      },
      "source": [
        "nome = 'Alice'"
      ],
      "execution_count": 19,
      "outputs": []
    },
    {
      "cell_type": "code",
      "metadata": {
        "id": "-cj34x6_6Vyh"
      },
      "source": [
        "def saudacao_com_parametro(nome_da_pessoa):\n",
        "  print(f'Olá, {nome_da_pessoa}!')"
      ],
      "execution_count": 22,
      "outputs": []
    },
    {
      "cell_type": "code",
      "metadata": {
        "colab": {
          "base_uri": "https://localhost:8080/"
        },
        "id": "G8ukWzNH6vCi",
        "outputId": "205717f6-87ae-4a7b-ea8c-8825ed3c2043"
      },
      "source": [
        "saudacao_com_parametro(nome)"
      ],
      "execution_count": 23,
      "outputs": [
        {
          "output_type": "stream",
          "name": "stdout",
          "text": [
            "Olá, Alice!\n"
          ]
        }
      ]
    },
    {
      "cell_type": "markdown",
      "metadata": {
        "id": "d8-X9pP97NkY"
      },
      "source": [
        "### Condicionais"
      ]
    },
    {
      "cell_type": "code",
      "metadata": {
        "colab": {
          "base_uri": "https://localhost:8080/"
        },
        "id": "soExMvg16zWZ",
        "outputId": "d25284c8-8f5f-4fb1-9883-c386e1977746"
      },
      "source": [
        "idade = 20\n",
        "\n",
        "def verifica_se_pode_dirigir(idade):\n",
        "  if idade >= 18:\n",
        "    print('Tem permissão para dirigir')\n",
        "\n",
        "verifica_se_pode_dirigir(idade)"
      ],
      "execution_count": 24,
      "outputs": [
        {
          "output_type": "stream",
          "name": "stdout",
          "text": [
            "Tem permissão para dirigir\n"
          ]
        }
      ]
    },
    {
      "cell_type": "code",
      "metadata": {
        "colab": {
          "base_uri": "https://localhost:8080/"
        },
        "id": "uHWCBlLm7wm6",
        "outputId": "c01ee5a2-372d-4410-9daa-485eecbb553a"
      },
      "source": [
        "idade = 16\n",
        "\n",
        "def verifica_se_pode_dirigir(idade):\n",
        "  if idade >= 18:\n",
        "    print('Tem permissão para dirigir')\n",
        "  else:\n",
        "    print('Não tem permissão para dirigir')\n",
        "\n",
        "verifica_se_pode_dirigir(idade)"
      ],
      "execution_count": 25,
      "outputs": [
        {
          "output_type": "stream",
          "name": "stdout",
          "text": [
            "Não tem permissão para dirigir\n"
          ]
        }
      ]
    },
    {
      "cell_type": "markdown",
      "metadata": {
        "id": "ryAaJAnf8AjI"
      },
      "source": [
        "### Convertendo tipo para inteiro"
      ]
    },
    {
      "cell_type": "code",
      "metadata": {
        "colab": {
          "base_uri": "https://localhost:8080/"
        },
        "id": "JBYGjqlh78Oi",
        "outputId": "f05a2265-1e86-4995-8d20-4827f1fb0e22"
      },
      "source": [
        "def verifica_se_pode_dirigir_sem_parametro():\n",
        "  idade = int(input('Qual a sua idade? '))\n",
        "  if idade >= 18:\n",
        "    print('Tem permissão para dirigir')\n",
        "  else:\n",
        "    print('Não tem permissão para dirigir')\n",
        "\n",
        "verifica_se_pode_dirigir_sem_parametro()"
      ],
      "execution_count": 29,
      "outputs": [
        {
          "output_type": "stream",
          "name": "stdout",
          "text": [
            "Qual a sua idade? 34\n",
            "Tem permissão para dirigir\n"
          ]
        }
      ]
    },
    {
      "cell_type": "markdown",
      "metadata": {
        "id": "YSSBJ3239kar"
      },
      "source": [
        "Exercício - Indo até a padaria"
      ]
    },
    {
      "cell_type": "code",
      "metadata": {
        "colab": {
          "base_uri": "https://localhost:8080/"
        },
        "id": "_eGMvIfu8pqG",
        "outputId": "88315aba-e054-437c-f5fe-cebbe86b584b"
      },
      "source": [
        "def velocidade(espaco, tempo):\n",
        " v = espaco / tempo\n",
        " print(f'Velocidade: {v} m/s')\n",
        "\n",
        "velocidade(100, 20)"
      ],
      "execution_count": 30,
      "outputs": [
        {
          "output_type": "stream",
          "name": "stdout",
          "text": [
            "Velocidade: 5.0 m/s\n"
          ]
        }
      ]
    },
    {
      "cell_type": "code",
      "metadata": {
        "colab": {
          "base_uri": "https://localhost:8080/"
        },
        "id": "eZoaHSTf-SFP",
        "outputId": "add2718d-8ae5-41df-cfd1-14a4525c0bca"
      },
      "source": [
        "def velocidade(espaco, tempo):\n",
        " v = int(espaco / tempo)\n",
        " print(f'Velocidade: {v} m/s')\n",
        "\n",
        "velocidade(100, 20)"
      ],
      "execution_count": 31,
      "outputs": [
        {
          "output_type": "stream",
          "name": "stdout",
          "text": [
            "Velocidade: 5 m/s\n"
          ]
        }
      ]
    },
    {
      "cell_type": "markdown",
      "metadata": {
        "id": "THIIBNbWAUav"
      },
      "source": [
        "Exercício - Habilitação e TypeError"
      ]
    },
    {
      "cell_type": "code",
      "metadata": {
        "colab": {
          "base_uri": "https://localhost:8080/"
        },
        "id": "2SAZqM2OAZ7y",
        "outputId": "193d35b1-d9ce-41ff-b8f4-743c5eaec03e"
      },
      "source": [
        "def habilitacao():\n",
        " idade = int(input('Qual é a sua idade? '))\n",
        " if idade >= 18:\n",
        "   print('Pode tirar habilitação')\n",
        " else:\n",
        "   tempo = 18 - idade\n",
        "   print(f'Calma... espere {tempo} ano(s) para tirar habilitação')\n",
        "\n",
        "habilitacao()"
      ],
      "execution_count": 32,
      "outputs": [
        {
          "output_type": "stream",
          "name": "stdout",
          "text": [
            "Qual é a sua idade? 18\n",
            "Pode tirar habilitação\n"
          ]
        }
      ]
    },
    {
      "cell_type": "markdown",
      "metadata": {
        "id": "Ter0lOnv_g6x"
      },
      "source": [
        "---"
      ]
    },
    {
      "cell_type": "markdown",
      "metadata": {
        "id": "ecMzYgBM_niv"
      },
      "source": [
        "## **Aula 03 - Lista, repetições e tipo booleano**"
      ]
    },
    {
      "cell_type": "markdown",
      "metadata": {
        "id": "tgQmjjx9CyYv"
      },
      "source": [
        "### Criando listas"
      ]
    },
    {
      "cell_type": "code",
      "metadata": {
        "colab": {
          "base_uri": "https://localhost:8080/"
        },
        "id": "eKKyGYN_DUgH",
        "outputId": "1f47d1c8-d4da-4b84-c6b9-208e7b1fe590"
      },
      "source": [
        "nome = 'Morgana'\n",
        "type(nome)"
      ],
      "execution_count": 33,
      "outputs": [
        {
          "output_type": "execute_result",
          "data": {
            "text/plain": [
              "str"
            ]
          },
          "metadata": {},
          "execution_count": 33
        }
      ]
    },
    {
      "cell_type": "code",
      "metadata": {
        "colab": {
          "base_uri": "https://localhost:8080/"
        },
        "id": "FmATCN55DaTA",
        "outputId": "a6fe018b-6457-40af-9d44-483eaa383a99"
      },
      "source": [
        "idade = 34\n",
        "type(idade)"
      ],
      "execution_count": 34,
      "outputs": [
        {
          "output_type": "execute_result",
          "data": {
            "text/plain": [
              "int"
            ]
          },
          "metadata": {},
          "execution_count": 34
        }
      ]
    },
    {
      "cell_type": "code",
      "metadata": {
        "colab": {
          "base_uri": "https://localhost:8080/"
        },
        "id": "wHr2Uy8U-goI",
        "outputId": "3bee00a6-a50c-49e8-bcf9-867df7004ed3"
      },
      "source": [
        "idades = [15, 21, 34, 106]\n",
        "type(idades)"
      ],
      "execution_count": 35,
      "outputs": [
        {
          "output_type": "execute_result",
          "data": {
            "text/plain": [
              "list"
            ]
          },
          "metadata": {},
          "execution_count": 35
        }
      ]
    },
    {
      "cell_type": "code",
      "metadata": {
        "colab": {
          "base_uri": "https://localhost:8080/"
        },
        "id": "yk2KIWzGDZ90",
        "outputId": "dd285289-f25c-47f0-bfb7-1ec62650a6cc"
      },
      "source": [
        "idades[2]"
      ],
      "execution_count": 36,
      "outputs": [
        {
          "output_type": "execute_result",
          "data": {
            "text/plain": [
              "34"
            ]
          },
          "metadata": {},
          "execution_count": 36
        }
      ]
    },
    {
      "cell_type": "code",
      "metadata": {
        "colab": {
          "base_uri": "https://localhost:8080/"
        },
        "id": "9jobo-bQEvqZ",
        "outputId": "631f26f3-acb0-46a4-df44-6f4ab4801fab"
      },
      "source": [
        "idades[0:3] #exibe os três primeiros números"
      ],
      "execution_count": 42,
      "outputs": [
        {
          "output_type": "execute_result",
          "data": {
            "text/plain": [
              "[15, 21, 34]"
            ]
          },
          "metadata": {},
          "execution_count": 42
        }
      ]
    },
    {
      "cell_type": "code",
      "metadata": {
        "colab": {
          "base_uri": "https://localhost:8080/"
        },
        "id": "HelTBaYLE7oW",
        "outputId": "4c8f1a1a-9c0e-437d-d615-2d3d705398a7"
      },
      "source": [
        "idades[2:] # exibe os dois últimos números"
      ],
      "execution_count": 45,
      "outputs": [
        {
          "output_type": "execute_result",
          "data": {
            "text/plain": [
              "[34, 106]"
            ]
          },
          "metadata": {},
          "execution_count": 45
        }
      ]
    },
    {
      "cell_type": "code",
      "metadata": {
        "colab": {
          "base_uri": "https://localhost:8080/"
        },
        "id": "ztJRnr_5FDwL",
        "outputId": "7707fb99-7329-4639-9470-d67be653192f"
      },
      "source": [
        "idades[-1] # exibe apenas o último número"
      ],
      "execution_count": 44,
      "outputs": [
        {
          "output_type": "execute_result",
          "data": {
            "text/plain": [
              "106"
            ]
          },
          "metadata": {},
          "execution_count": 44
        }
      ]
    },
    {
      "cell_type": "code",
      "metadata": {
        "colab": {
          "base_uri": "https://localhost:8080/"
        },
        "id": "CZPK9E4PFtxV",
        "outputId": "4e47e758-ec18-4caa-ee8d-b7cea609f2fa"
      },
      "source": [
        "idades[-2] #exibe o penúltimo número do exemplo dado"
      ],
      "execution_count": 46,
      "outputs": [
        {
          "output_type": "execute_result",
          "data": {
            "text/plain": [
              "34"
            ]
          },
          "metadata": {},
          "execution_count": 46
        }
      ]
    },
    {
      "cell_type": "code",
      "metadata": {
        "id": "FtYxbvbuDvXA"
      },
      "source": [
        "# Observação com relação aos índices\n",
        "# idades = [15, 21, 34, 106]\n",
        "#           0   1   2    3  -> índices\n",
        "#           0  -3  -2   -1"
      ],
      "execution_count": 47,
      "outputs": []
    },
    {
      "cell_type": "markdown",
      "metadata": {
        "id": "HgImBvH1_xY5"
      },
      "source": [
        "---"
      ]
    },
    {
      "cell_type": "markdown",
      "metadata": {
        "id": "RYV8pFelGC7g"
      },
      "source": [
        "### Laços e loops"
      ]
    },
    {
      "cell_type": "code",
      "metadata": {
        "colab": {
          "base_uri": "https://localhost:8080/"
        },
        "id": "cwzQi9ovGCMW",
        "outputId": "e59ad730-e0f9-456b-83fc-ca3d514c2a55"
      },
      "source": [
        "idades"
      ],
      "execution_count": 48,
      "outputs": [
        {
          "output_type": "execute_result",
          "data": {
            "text/plain": [
              "[15, 21, 34, 106]"
            ]
          },
          "metadata": {},
          "execution_count": 48
        }
      ]
    },
    {
      "cell_type": "code",
      "metadata": {
        "colab": {
          "base_uri": "https://localhost:8080/"
        },
        "id": "Q9thGzTSGdpr",
        "outputId": "9564d44b-12c6-45a4-bd4f-66e9c42785db"
      },
      "source": [
        "# Para o FOR fora da função\n",
        "\n",
        "def verifica_se_pode_dirigir(idade):\n",
        "  if idade >= 18:\n",
        "    print(f'{idade} anos de idade, TEM permissão para dirigir.')\n",
        "  else:\n",
        "    print(f'{idade} anos de idade, NÃO TEM permissão para dirigir.')\n",
        "\n",
        "for idade in idades:\n",
        "  verifica_se_pode_dirigir(idade)"
      ],
      "execution_count": 51,
      "outputs": [
        {
          "output_type": "stream",
          "name": "stdout",
          "text": [
            "15 anos de idade, NÃO TEM permissão para dirigir.\n",
            "21 anos de idade, TEM permissão para dirigir.\n",
            "34 anos de idade, TEM permissão para dirigir.\n",
            "106 anos de idade, TEM permissão para dirigir.\n"
          ]
        }
      ]
    },
    {
      "cell_type": "code",
      "metadata": {
        "colab": {
          "base_uri": "https://localhost:8080/"
        },
        "id": "Oo7CZUNaG-4T",
        "outputId": "af3a9ee3-de50-472b-930b-c199352f96ff"
      },
      "source": [
        "# Para o FOR dentro da função\n",
        "\n",
        "def verifica_se_pode_dirigir(idades):\n",
        "  for idade in idades:\n",
        "    if idade >= 18:\n",
        "      print(f'{idade} anos de idade, TEM permissão para dirigir.')\n",
        "    else:\n",
        "      print(f'{idade} anos de idade, NÃO TEM permissão para dirigir.')\n",
        "\n",
        "verifica_se_pode_dirigir(idades)"
      ],
      "execution_count": 52,
      "outputs": [
        {
          "output_type": "stream",
          "name": "stdout",
          "text": [
            "15 anos de idade, NÃO TEM permissão para dirigir.\n",
            "21 anos de idade, TEM permissão para dirigir.\n",
            "34 anos de idade, TEM permissão para dirigir.\n",
            "106 anos de idade, TEM permissão para dirigir.\n"
          ]
        }
      ]
    },
    {
      "cell_type": "markdown",
      "metadata": {
        "id": "0L0zNGymHi3U"
      },
      "source": [
        "### Tipo booleano"
      ]
    },
    {
      "cell_type": "code",
      "metadata": {
        "colab": {
          "base_uri": "https://localhost:8080/"
        },
        "id": "tdO0SyBpHSEK",
        "outputId": "149771df-dc22-4608-c83d-eb49f6b849fd"
      },
      "source": [
        "idade = 18\n",
        "idade >= 18"
      ],
      "execution_count": 53,
      "outputs": [
        {
          "output_type": "execute_result",
          "data": {
            "text/plain": [
              "True"
            ]
          },
          "metadata": {},
          "execution_count": 53
        }
      ]
    },
    {
      "cell_type": "code",
      "metadata": {
        "colab": {
          "base_uri": "https://localhost:8080/"
        },
        "id": "wYNhpe8CHxFp",
        "outputId": "e9f2d595-a686-47ba-99a5-f3dcd5d6d121"
      },
      "source": [
        "idade = 15\n",
        "idade >= 18"
      ],
      "execution_count": 54,
      "outputs": [
        {
          "output_type": "execute_result",
          "data": {
            "text/plain": [
              "False"
            ]
          },
          "metadata": {},
          "execution_count": 54
        }
      ]
    },
    {
      "cell_type": "code",
      "metadata": {
        "id": "fV-iwRB_H0Aa"
      },
      "source": [
        "permissoes = []\n",
        "idades = [20, 14, 40]\n",
        "\n",
        "def verifica_se_pode_dirigir(idades, permissoes):\n",
        "  for idade in idades:\n",
        "    if idade >= 18:\n",
        "      permissoes.append(True)\n",
        "    else:\n",
        "      permissoes.append(False)\n",
        "\n",
        "verifica_se_pode_dirigir(idades, permissoes)"
      ],
      "execution_count": 55,
      "outputs": []
    },
    {
      "cell_type": "code",
      "metadata": {
        "colab": {
          "base_uri": "https://localhost:8080/"
        },
        "id": "tmQTJkSZIPOd",
        "outputId": "a8a32cc9-cf0e-4f1e-e934-555bbac1947e"
      },
      "source": [
        "permissoes"
      ],
      "execution_count": 56,
      "outputs": [
        {
          "output_type": "execute_result",
          "data": {
            "text/plain": [
              "[True, False, True]"
            ]
          },
          "metadata": {},
          "execution_count": 56
        }
      ]
    },
    {
      "cell_type": "code",
      "metadata": {
        "colab": {
          "base_uri": "https://localhost:8080/"
        },
        "id": "0PN1KhbAIRSy",
        "outputId": "3ac2096d-24fd-4524-f462-b95e47258d02"
      },
      "source": [
        "for permissao in permissoes:\n",
        "  if permissao == True:\n",
        "    print('Tem permissão para dirigir')\n",
        "  else:\n",
        "    print('Não tem permissão para dirigir')"
      ],
      "execution_count": 57,
      "outputs": [
        {
          "output_type": "stream",
          "name": "stdout",
          "text": [
            "Tem permissão para dirigir\n",
            "Não tem permissão para dirigir\n",
            "Tem permissão para dirigir\n"
          ]
        }
      ]
    },
    {
      "cell_type": "markdown",
      "metadata": {
        "id": "lvGOqly4JFGB"
      },
      "source": [
        "Exercício - Slogan da Alura"
      ]
    },
    {
      "cell_type": "code",
      "metadata": {
        "colab": {
          "base_uri": "https://localhost:8080/"
        },
        "id": "sLzauzKPImDL",
        "outputId": "33e48fa7-1ece-482d-96ad-95830e0bc961"
      },
      "source": [
        "# Frase correta: Cursos de Tecnologia e Negócios Digitais\n",
        "\n",
        "frase_alura = ['Digitais', 'e ', 'Negócios ', 'de ', 'Tecnologia ', 'Cursos ']\n",
        "print(frase_alura[5] + frase_alura[3] + frase_alura[4] + frase_alura[1] + frase_alura[2] + frase_alura[0])\n",
        "\n",
        "# Outra opção seria\n",
        "print(frase_alura[-1] + frase_alura[-3] + frase_alura[-2] + frase_alura[-5] + frase_alura[-4] + frase_alura[0])\n",
        "\n",
        "# Outra opção seria\n",
        "print(frase_alura[-1] + frase_alura[3] + frase_alura[-2] + frase_alura[1] + frase_alura[2] + frase_alura[0])"
      ],
      "execution_count": 61,
      "outputs": [
        {
          "output_type": "stream",
          "name": "stdout",
          "text": [
            "Cursos de Tecnologia e Negócios Digitais\n",
            "Cursos de Tecnologia e Negócios Digitais\n",
            "Cursos de Tecnologia e Negócios Digitais\n"
          ]
        }
      ]
    },
    {
      "cell_type": "markdown",
      "metadata": {
        "id": "5tAsrYQ4K-iH"
      },
      "source": [
        "Exercício - Qual o valor de **a**?"
      ]
    },
    {
      "cell_type": "code",
      "metadata": {
        "colab": {
          "base_uri": "https://localhost:8080/"
        },
        "id": "F99nRQ3nJ-Pf",
        "outputId": "ee9124df-112a-4b8d-d152-b819057c335f"
      },
      "source": [
        "a = 2\n",
        "\n",
        "if a < 2:\n",
        " a = a + 1\n",
        "else:\n",
        " a = a + 2\n",
        " \n",
        "if a < 4:\n",
        " a = a - 4\n",
        "else:\n",
        " a = a + 6\n",
        "\n",
        "a"
      ],
      "execution_count": 64,
      "outputs": [
        {
          "output_type": "execute_result",
          "data": {
            "text/plain": [
              "10"
            ]
          },
          "metadata": {},
          "execution_count": 64
        }
      ]
    },
    {
      "cell_type": "markdown",
      "metadata": {
        "id": "H1sG6ppjOcJe"
      },
      "source": [
        "---"
      ]
    },
    {
      "cell_type": "markdown",
      "metadata": {
        "id": "Ov6q3oKBOmkp"
      },
      "source": [
        "## **Aula 04 - O sistema de imports**"
      ]
    },
    {
      "cell_type": "markdown",
      "metadata": {
        "id": "1Xr1pLnHOypK"
      },
      "source": [
        "### Tipos em uma lista"
      ]
    },
    {
      "cell_type": "code",
      "metadata": {
        "colab": {
          "base_uri": "https://localhost:8080/"
        },
        "id": "d5fSA8JkLe8V",
        "outputId": "58493535-7fd8-48de-ed13-cbe7337bef11"
      },
      "source": [
        "lista = ['Morgana', 34, True, '18']\n",
        "\n",
        "for elemento in lista:\n",
        "  print(f'O elemento {elemento} é do tipo:', type (elemento))"
      ],
      "execution_count": 66,
      "outputs": [
        {
          "output_type": "stream",
          "name": "stdout",
          "text": [
            "O elemento Morgana é do tipo: <class 'str'>\n",
            "O elemento 34 é do tipo: <class 'int'>\n",
            "O elemento True é do tipo: <class 'bool'>\n",
            "O elemento 18 é do tipo: <class 'str'>\n"
          ]
        }
      ]
    },
    {
      "cell_type": "markdown",
      "metadata": {
        "id": "5KRKJu4JPlJZ"
      },
      "source": [
        "### Import"
      ]
    },
    {
      "cell_type": "code",
      "metadata": {
        "id": "or6u9Q-RPSYA"
      },
      "source": [
        "from random import randrange, seed"
      ],
      "execution_count": 75,
      "outputs": []
    },
    {
      "cell_type": "code",
      "metadata": {
        "id": "_hNjAiVsRGpr"
      },
      "source": [
        "seed(11)"
      ],
      "execution_count": 81,
      "outputs": []
    },
    {
      "cell_type": "code",
      "metadata": {
        "colab": {
          "base_uri": "https://localhost:8080/"
        },
        "id": "HssCxXBbP_mF",
        "outputId": "a84cbd34-a236-456b-a3f8-964a64632af6"
      },
      "source": [
        "randrange(0, 11)"
      ],
      "execution_count": 82,
      "outputs": [
        {
          "output_type": "execute_result",
          "data": {
            "text/plain": [
              "7"
            ]
          },
          "metadata": {},
          "execution_count": 82
        }
      ]
    },
    {
      "cell_type": "code",
      "metadata": {
        "colab": {
          "base_uri": "https://localhost:8080/"
        },
        "id": "8xlLUa8MQMah",
        "outputId": "be498d06-c157-4277-df16-ccaa4a4ba0fc"
      },
      "source": [
        "notas_matematica = []\n",
        "\n",
        "notas_matematica.append(randrange(0, 11))\n",
        "\n",
        "notas_matematica"
      ],
      "execution_count": 83,
      "outputs": [
        {
          "output_type": "execute_result",
          "data": {
            "text/plain": [
              "[8]"
            ]
          },
          "metadata": {},
          "execution_count": 83
        }
      ]
    },
    {
      "cell_type": "code",
      "metadata": {
        "colab": {
          "base_uri": "https://localhost:8080/"
        },
        "id": "4m0rwRrgQgwQ",
        "outputId": "0f3c10a5-fe1d-4a39-a47a-39c9fb5e79e3"
      },
      "source": [
        "notas_matematica = []\n",
        "\n",
        "for notas in range(8):\n",
        "  notas_matematica.append(randrange(0, 11))\n",
        "\n",
        "notas_matematica"
      ],
      "execution_count": 84,
      "outputs": [
        {
          "output_type": "execute_result",
          "data": {
            "text/plain": [
              "[7, 7, 8, 9, 3, 2, 8, 7]"
            ]
          },
          "metadata": {},
          "execution_count": 84
        }
      ]
    },
    {
      "cell_type": "code",
      "metadata": {
        "colab": {
          "base_uri": "https://localhost:8080/"
        },
        "id": "itOGdI0gQ3au",
        "outputId": "2ba31ac5-fdc3-477e-9889-d9879222c9f5"
      },
      "source": [
        "len(notas_matematica)"
      ],
      "execution_count": 85,
      "outputs": [
        {
          "output_type": "execute_result",
          "data": {
            "text/plain": [
              "8"
            ]
          },
          "metadata": {},
          "execution_count": 85
        }
      ]
    },
    {
      "cell_type": "markdown",
      "metadata": {
        "id": "V8u6GG5kR0CJ"
      },
      "source": [
        "Exercício - Listas no Python"
      ]
    },
    {
      "cell_type": "code",
      "metadata": {
        "colab": {
          "base_uri": "https://localhost:8080/"
        },
        "id": "VyM5Q9HSQ83b",
        "outputId": "38608bd3-3126-489d-ef1a-4ffc2b016a67"
      },
      "source": [
        "lista = ['int', False, True, '18', 2020]\n",
        "\n",
        "for elemento in lista:\n",
        " print(type(elemento))"
      ],
      "execution_count": 86,
      "outputs": [
        {
          "output_type": "stream",
          "name": "stdout",
          "text": [
            "<class 'str'>\n",
            "<class 'bool'>\n",
            "<class 'bool'>\n",
            "<class 'str'>\n",
            "<class 'int'>\n"
          ]
        }
      ]
    },
    {
      "cell_type": "markdown",
      "metadata": {
        "id": "tvJxwaAtSOZk"
      },
      "source": [
        "---"
      ]
    },
    {
      "cell_type": "markdown",
      "metadata": {
        "id": "Vee4L8yqSQ_I"
      },
      "source": [
        "## **Aula 05 - Plotando com matplotlib**"
      ]
    },
    {
      "cell_type": "markdown",
      "metadata": {
        "id": "lfJJZmlJSpnz"
      },
      "source": [
        "### Criando um gráfico"
      ]
    },
    {
      "cell_type": "code",
      "metadata": {
        "id": "GtTzv88_R9qI"
      },
      "source": [
        "import matplotlib.pyplot as plt"
      ],
      "execution_count": 87,
      "outputs": []
    },
    {
      "cell_type": "code",
      "metadata": {
        "colab": {
          "base_uri": "https://localhost:8080/"
        },
        "id": "sWAG5R7BTAg7",
        "outputId": "0af5dc4d-427d-413d-d823-bbcac56f0434"
      },
      "source": [
        "x = list(range(1, 9)) # eixo x\n",
        "x"
      ],
      "execution_count": 91,
      "outputs": [
        {
          "output_type": "execute_result",
          "data": {
            "text/plain": [
              "[1, 2, 3, 4, 5, 6, 7, 8]"
            ]
          },
          "metadata": {},
          "execution_count": 91
        }
      ]
    },
    {
      "cell_type": "code",
      "metadata": {
        "colab": {
          "base_uri": "https://localhost:8080/"
        },
        "id": "Odgjy9gyTPhk",
        "outputId": "b68916a8-95b8-4225-e278-854b6456a5d0"
      },
      "source": [
        "y = notas_matematica #eixo y\n",
        "y"
      ],
      "execution_count": 92,
      "outputs": [
        {
          "output_type": "execute_result",
          "data": {
            "text/plain": [
              "[7, 7, 8, 9, 3, 2, 8, 7]"
            ]
          },
          "metadata": {},
          "execution_count": 92
        }
      ]
    },
    {
      "cell_type": "code",
      "metadata": {
        "colab": {
          "base_uri": "https://localhost:8080/",
          "height": 295
        },
        "id": "5V9GmoLITVss",
        "outputId": "90820c88-d205-47ca-8c39-0da9fbcafd2b"
      },
      "source": [
        "x = list(range(1, 9))\n",
        "y = notas_matematica\n",
        "\n",
        "plt.plot(x, y, marker = 'o')\n",
        "plt.title('Notas de Matemática')\n",
        "plt.xlabel('Provas')\n",
        "plt.ylabel('Notas')\n",
        "plt.show()"
      ],
      "execution_count": 96,
      "outputs": [
        {
          "output_type": "display_data",
          "data": {
            "image/png": "[encoded data removed]",
            "text/plain": [
              "<Figure size 432x288 with 1 Axes>"
            ]
          },
          "metadata": {
            "needs_background": "light"
          }
        }
      ]
    },
    {
      "cell_type": "markdown",
      "metadata": {
        "id": "lAYXs2OzUx_6"
      },
      "source": [
        "Exercício - Lógica e valor final"
      ]
    },
    {
      "cell_type": "code",
      "metadata": {
        "id": "nZdTShE6TpTn"
      },
      "source": [
        "import matplotlib.pyplot as plt\n",
        "\n",
        "notas_matematica = ['Matemática',8,7,6,6,7,7,8,10]\n",
        "notas_portugues = ['Português',9,9,9,8,5,6,8,5]\n",
        "notas_geografia = ['Geografia',10,10,6,7,7,7,8,7]\n",
        "\n",
        "notas = [notas_matematica, notas_portugues, notas_geografia]"
      ],
      "execution_count": 97,
      "outputs": []
    },
    {
      "cell_type": "code",
      "metadata": {
        "colab": {
          "base_uri": "https://localhost:8080/",
          "height": 803
        },
        "id": "Lnrbj_x5VM8N",
        "outputId": "49f79abe-f096-4a9e-e12a-48d117c8261a"
      },
      "source": [
        "# Alternativa A\n",
        "\n",
        "for nota in notas:\n",
        "  x = list(range(1, 9))\n",
        "  y = nota[1:]\n",
        "  plt.plot(x, y, marker='o')\n",
        "  plt.xlabel('Provas')\n",
        "  plt.ylabel('Notas')\n",
        "  plt.show()"
      ],
      "execution_count": 99,
      "outputs": [
        {
          "output_type": "display_data",
          "data": {
            "image/png": "[encoded data removed]",
            "text/plain": [
              "<Figure size 432x288 with 1 Axes>"
            ]
          },
          "metadata": {
            "needs_background": "light"
          }
        },
        {
          "output_type": "display_data",
          "data": {
            "image/png": "[encoded data removed]",
            "text/plain": [
              "<Figure size 432x288 with 1 Axes>"
            ]
          },
          "metadata": {
            "needs_background": "light"
          }
        },
        {
          "output_type": "display_data",
          "data": {
            "image/png": "[encoded data removed]",
            "text/plain": [
              "<Figure size 432x288 with 1 Axes>"
            ]
          },
          "metadata": {
            "needs_background": "light"
          }
        }
      ]
    },
    {
      "cell_type": "code",
      "metadata": {
        "colab": {
          "base_uri": "https://localhost:8080/",
          "height": 851
        },
        "id": "8cUBSeAnVOZU",
        "outputId": "b62e7b26-6a12-4585-bd4a-36468ed3e9bc"
      },
      "source": [
        "# Alternativa B\n",
        "\n",
        "for nota in notas:\n",
        "  x = list(range(1, 10))\n",
        "  y = nota\n",
        "  plt.plot(x, y, marker='o')\n",
        "  plt.xlabel('Provas')\n",
        "  plt.ylabel('Notas')\n",
        "  plt.title(nota[0])\n",
        "  plt.show()"
      ],
      "execution_count": 100,
      "outputs": [
        {
          "output_type": "display_data",
          "data": {
            "image/png": "[encoded data removed]",
            "text/plain": [
              "<Figure size 432x288 with 1 Axes>"
            ]
          },
          "metadata": {
            "needs_background": "light"
          }
        },
        {
          "output_type": "display_data",
          "data": {
            "image/png": "[encoded data removed]",
            "text/plain": [
              "<Figure size 432x288 with 1 Axes>"
            ]
          },
          "metadata": {
            "needs_background": "light"
          }
        },
        {
          "output_type": "display_data",
          "data": {
            "image/png": "[encoded data removed]",
            "text/plain": [
              "<Figure size 432x288 with 1 Axes>"
            ]
          },
          "metadata": {
            "needs_background": "light"
          }
        }
      ]
    },
    {
      "cell_type": "code",
      "metadata": {
        "colab": {
          "base_uri": "https://localhost:8080/",
          "height": 851
        },
        "id": "z2H7-NIfVfE_",
        "outputId": "768bef74-9176-438b-f8a8-988dd7e1c7ac"
      },
      "source": [
        "# Alternativa C\n",
        "\n",
        "for nota in notas:\n",
        " x = list(range(1, 9))\n",
        " y = nota[1:]\n",
        " plt.plot(x, y, marker='o')\n",
        " plt.xlabel('Provas')\n",
        " plt.ylabel('Notas')\n",
        " plt.title(nota[0])\n",
        " plt.show()"
      ],
      "execution_count": 101,
      "outputs": [
        {
          "output_type": "display_data",
          "data": {
            "image/png": "[encoded data removed]",
            "text/plain": [
              "<Figure size 432x288 with 1 Axes>"
            ]
          },
          "metadata": {
            "needs_background": "light"
          }
        },
        {
          "output_type": "display_data",
          "data": {
            "image/png": "[encoded data removed]",
            "text/plain": [
              "<Figure size 432x288 with 1 Axes>"
            ]
          },
          "metadata": {
            "needs_background": "light"
          }
        },
        {
          "output_type": "display_data",
          "data": {
            "image/png": "[encoded data removed]",
            "text/plain": [
              "<Figure size 432x288 with 1 Axes>"
            ]
          },
          "metadata": {
            "needs_background": "light"
          }
        }
      ]
    },
    {
      "cell_type": "markdown",
      "metadata": {
        "id": "TNdNdXqNV4pZ"
      },
      "source": [
        "---"
      ]
    }
  ]
}